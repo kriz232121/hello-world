{
  "nbformat": 4,
  "nbformat_minor": 0,
  "metadata": {
    "colab": {
      "name": "New_boot.ipynb",
      "provenance": [],
      "collapsed_sections": [],
      "toc_visible": true,
      "include_colab_link": true
    },
    "kernelspec": {
      "name": "python3",
      "display_name": "Python 3"
    },
    "accelerator": "GPU"
  },
  "cells": [
    {
      "cell_type": "markdown",
      "metadata": {
        "id": "view-in-github",
        "colab_type": "text"
      },
      "source": [
        "<a href=\"https://colab.research.google.com/github/kriz232121/hello-world/blob/master/Red_Bootcamp.ipynb\" target=\"_parent\"><img src=\"https://colab.research.google.com/assets/colab-badge.svg\" alt=\"Open In Colab\"/></a>"
      ]
    },
    {
      "cell_type": "code",
      "metadata": {
        "id": "RscUVukLwJjS",
        "colab_type": "code",
        "colab": {}
      },
      "source": [
        "import matplotlib\n",
        "matplotlib.use(\"Agg\")\n",
        "\n",
        "from tensorflow.keras.preprocessing.image import ImageDataGenerator\n",
        "from tensorflow.keras.applications import VGG16\n",
        "from tensorflow.keras.layers import Dropout\n",
        "from tensorflow.keras.layers import Flatten\n",
        "from tensorflow.keras.layers import Dense\n",
        "from tensorflow.keras.layers import Input\n",
        "from tensorflow.keras.models import Model\n",
        "from tensorflow.keras.optimizers import SGD\n",
        "from sklearn.preprocessing import LabelBinarizer\n",
        "from sklearn.model_selection import train_test_split\n",
        "from sklearn.metrics import classification_report\n",
        "from bootcamp.learningratefinder import LearningRateFinder\n",
        "from bootcamp.clr_callback import CyclicLR\n",
        "from bootcamp import config\n",
        "from imutils import paths\n",
        "import matplotlib.pyplot as plt\n",
        "import numpy as np\n",
        "import argparse\n",
        "import pickle\n",
        "import cv2\n",
        "import sys\n",
        "import os"
      ],
      "execution_count": 0,
      "outputs": []
    },
    {
      "cell_type": "markdown",
      "metadata": {
        "id": "-ZFa7FBLWhTM",
        "colab_type": "text"
      },
      "source": [
        "Cargamoslos pesos de [VGG16](https://neurohive.io/en/popular-networks/vgg16/) un modelo preentrenado.\n",
        "Eliminamos las capas del final `include_top=False`.\n",
        "Las imágenes de entrada serán de (224, 224, 3)"
      ]
    },
    {
      "cell_type": "code",
      "metadata": {
        "id": "TK-uGG0iw2Yo",
        "colab_type": "code",
        "outputId": "afed7907-c38f-4352-f211-01fd926a4d82",
        "colab": {
          "base_uri": "https://localhost:8080/",
          "height": 129
        }
      },
      "source": [
        "baseModel = VGG16(weights=\"imagenet\", include_top=False,\n",
        "\tinput_tensor=Input(shape=(224, 224, 3)))"
      ],
      "execution_count": 0,
      "outputs": [
        {
          "output_type": "stream",
          "text": [
            "WARNING:tensorflow:From /usr/local/lib/python3.6/dist-packages/tensorflow_core/python/ops/resource_variable_ops.py:1630: calling BaseResourceVariable.__init__ (from tensorflow.python.ops.resource_variable_ops) with constraint is deprecated and will be removed in a future version.\n",
            "Instructions for updating:\n",
            "If using Keras pass *_constraint arguments to layers.\n",
            "Downloading data from https://github.com/fchollet/deep-learning-models/releases/download/v0.1/vgg16_weights_tf_dim_ordering_tf_kernels_notop.h5\n",
            "58892288/58889256 [==============================] - 2s 0us/step\n"
          ],
          "name": "stdout"
        }
      ]
    },
    {
      "cell_type": "markdown",
      "metadata": {
        "id": "tHr6elGgZXDh",
        "colab_type": "text"
      },
      "source": [
        ""
      ]
    },
    {
      "cell_type": "code",
      "metadata": {
        "id": "pt3y7ZLTx1ZG",
        "colab_type": "code",
        "colab": {}
      },
      "source": [
        "# Construimos la última capa que reemplazará a la red anterior\n",
        "headModel = baseModel.output\n",
        "headModel = Flatten(name=\"flatten\")(headModel)\n",
        "headModel = Dense(512, activation=\"relu\")(headModel)\n",
        "headModel = Dropout(0.5)(headModel)\n",
        "headModel = Dense(len(config.CLASSES), activation=\"softmax\")(headModel)"
      ],
      "execution_count": 0,
      "outputs": []
    },
    {
      "cell_type": "code",
      "metadata": {
        "id": "CH_N1OxXyM6u",
        "colab_type": "code",
        "colab": {}
      },
      "source": [
        "# Colocamos el modelo FC -> sobre el modelo anterior \"base_model\"\n",
        "model = Model(inputs=baseModel.input, outputs=headModel)"
      ],
      "execution_count": 0,
      "outputs": []
    },
    {
      "cell_type": "code",
      "metadata": {
        "id": "6swqus8tyOz1",
        "colab_type": "code",
        "outputId": "5ce0230b-64c8-408e-babf-9be4375a4997",
        "colab": {
          "base_uri": "https://localhost:8080/",
          "height": 35
        }
      },
      "source": [
        "# loop sobre todas las capas del modelo anterior \"base_model\" y las congelamos \"freeze\" para que no se actualicen \n",
        "# durante la primera etapa de entrenamiento\n",
        "\n",
        "for layers in baseModel.layers:\n",
        "    layers.trainable = False\n",
        "\n",
        "# Se compila el modelo(esto se hace despues para que las anteriores capas no sean entrenadas)\n",
        "print(\"----------------Compilando el modelo-----------\")\n",
        "opt = SGD(lr=config.MIN_LR, momentum=0.9)\n",
        "model.compile(loss=\"categorical_crossentropy\", optimizer=opt, metrics=[\"accuracy\"])"
      ],
      "execution_count": 0,
      "outputs": [
        {
          "output_type": "stream",
          "text": [
            "----------------Compilando el modelo-----------\n"
          ],
          "name": "stdout"
        }
      ]
    },
    {
      "cell_type": "code",
      "metadata": {
        "id": "6FT9XhbvcqKm",
        "colab_type": "code",
        "colab": {}
      },
      "source": [
        "folder = 'ciclones'\n",
        "file = 'ciclones.txt'"
      ],
      "execution_count": 0,
      "outputs": []
    },
    {
      "cell_type": "code",
      "metadata": {
        "id": "4qUStavU7eVy",
        "colab_type": "code",
        "colab": {}
      },
      "source": [
        "folder1 = 'terremotos'\n",
        "file1 = 'terremoto.txt'"
      ],
      "execution_count": 0,
      "outputs": []
    },
    {
      "cell_type": "code",
      "metadata": {
        "id": "m89rsraSLL5p",
        "colab_type": "code",
        "colab": {}
      },
      "source": [
        "folder2 = 'inundaciones'\n",
        "file2 = 'inundacion.txt'"
      ],
      "execution_count": 0,
      "outputs": []
    },
    {
      "cell_type": "code",
      "metadata": {
        "id": "P9N1OwsaMYA_",
        "colab_type": "code",
        "colab": {}
      },
      "source": [
        "folder3 = 'incendios'\n",
        "file3 = 'incendio.txt'"
      ],
      "execution_count": 0,
      "outputs": []
    },
    {
      "cell_type": "code",
      "metadata": {
        "id": "pxo-2_2Ht2OO",
        "colab_type": "code",
        "colab": {}
      },
      "source": [
        "!mkdir MRI"
      ],
      "execution_count": 0,
      "outputs": []
    },
    {
      "cell_type": "code",
      "metadata": {
        "id": "VHbAMPYy7Xcz",
        "colab_type": "code",
        "outputId": "3868625e-59ab-45fd-f53e-5e71eb81587f",
        "colab": {
          "base_uri": "https://localhost:8080/",
          "height": 35
        }
      },
      "source": [
        "cd fenomenos"
      ],
      "execution_count": 0,
      "outputs": [
        {
          "output_type": "stream",
          "text": [
            "/content/fenomenos\n"
          ],
          "name": "stdout"
        }
      ]
    },
    {
      "cell_type": "code",
      "metadata": {
        "id": "qGRcOIYq7a4a",
        "colab_type": "code",
        "colab": {}
      },
      "source": [
        "!mkdir ciclones terremotos inundaciones incendios"
      ],
      "execution_count": 0,
      "outputs": []
    },
    {
      "cell_type": "code",
      "metadata": {
        "id": "R9IgIJsn7cLC",
        "colab_type": "code",
        "outputId": "ef6c2c11-7e5a-4177-ecd3-e7f8d3a63037",
        "colab": {
          "base_uri": "https://localhost:8080/",
          "height": 35
        }
      },
      "source": [
        "!ls"
      ],
      "execution_count": 0,
      "outputs": [
        {
          "output_type": "stream",
          "text": [
            "ciclones  incendios  inundaciones  terremotos\n"
          ],
          "name": "stdout"
        }
      ]
    },
    {
      "cell_type": "code",
      "metadata": {
        "id": "13GAnGG08ori",
        "colab_type": "code",
        "colab": {}
      },
      "source": [
        "from fastai.vision import *"
      ],
      "execution_count": 0,
      "outputs": []
    },
    {
      "cell_type": "code",
      "metadata": {
        "id": "1xgMtiM4lPQN",
        "colab_type": "code",
        "outputId": "51996b61-f85a-45c0-d13e-d91553fda1e0",
        "colab": {
          "base_uri": "https://localhost:8080/",
          "height": 54
        }
      },
      "source": [
        "cd ciclones"
      ],
      "execution_count": 0,
      "outputs": [
        {
          "output_type": "stream",
          "text": [
            "[Errno 2] No such file or directory: 'ciclones'\n",
            "/content/fenomenos/ciclones\n"
          ],
          "name": "stdout"
        }
      ]
    },
    {
      "cell_type": "code",
      "metadata": {
        "id": "fkokZyEfVL-4",
        "colab_type": "code",
        "outputId": "fee49d40-66f9-44d5-d9b4-980e6143b1b0",
        "colab": {
          "base_uri": "https://localhost:8080/",
          "height": 35
        }
      },
      "source": [
        "ls"
      ],
      "execution_count": 0,
      "outputs": [
        {
          "output_type": "stream",
          "text": [
            "\u001b[0m\u001b[01;34mbootcamp\u001b[0m/  \u001b[01;34mfenomenos\u001b[0m/  \u001b[01;34msample_data\u001b[0m/\n"
          ],
          "name": "stdout"
        }
      ]
    },
    {
      "cell_type": "code",
      "metadata": {
        "id": "5birQJhzoyo1",
        "colab_type": "code",
        "colab": {}
      },
      "source": [
        "classes = ['ciclones',  'incendios' , 'inundaciones' , 'terremotos'\n",
        "]"
      ],
      "execution_count": 0,
      "outputs": []
    },
    {
      "cell_type": "code",
      "metadata": {
        "id": "L3bleqUGTR2h",
        "colab_type": "code",
        "colab": {}
      },
      "source": [
        "path = Path('fenomenos')"
      ],
      "execution_count": 0,
      "outputs": []
    },
    {
      "cell_type": "code",
      "metadata": {
        "id": "H0xX4hmLQCkP",
        "colab_type": "code",
        "outputId": "fd38dfbf-a984-4cf2-dbd0-2c4c8210edd1",
        "colab": {
          "base_uri": "https://localhost:8080/",
          "height": 35
        }
      },
      "source": [
        ""
      ],
      "execution_count": 0,
      "outputs": [
        {
          "output_type": "execute_result",
          "data": {
            "text/plain": [
              "PosixPath('fenomenos/incendios')"
            ]
          },
          "metadata": {
            "tags": []
          },
          "execution_count": 68
        }
      ]
    },
    {
      "cell_type": "code",
      "metadata": {
        "id": "MwwMxaVtToer",
        "colab_type": "code",
        "outputId": "6937e28b-0bc7-4eb8-ceac-23024c544f3e",
        "colab": {
          "base_uri": "https://localhost:8080/",
          "height": 74
        }
      },
      "source": [
        "dest = path/folder\n",
        "dest\n",
        "download_images(dest/file, dest, max_pics=200)"
      ],
      "execution_count": 0,
      "outputs": [
        {
          "output_type": "display_data",
          "data": {
            "text/html": [
              ""
            ],
            "text/plain": [
              "<IPython.core.display.HTML object>"
            ]
          },
          "metadata": {
            "tags": []
          }
        },
        {
          "output_type": "stream",
          "text": [
            "Error https://www.tangible-eluniversal.com.mx/sites/default/files/styles/corte_1_1230x692/public/field/image/portada_5_0.jpg?itok=5Jefyq7l HTTPSConnectionPool(host='www.tangible-eluniversal.com.mx', port=443): Max retries exceeded with url: /sites/default/files/styles/corte_1_1230x692/public/field/image/portada_5_0.jpg?itok=5Jefyq7l (Caused by NewConnectionError('<urllib3.connection.VerifiedHTTPSConnection object at 0x7f86aefba550>: Failed to establish a new connection: [Errno -2] Name or service not known',))\n",
            "Error http://www.granma.cu/file/img/2019/09/medium/f0146353.jpg HTTPConnectionPool(host='www.granma.cu', port=80): Max retries exceeded with url: /file/img/2019/09/medium/f0146353.jpg (Caused by ConnectTimeoutError(<urllib3.connection.HTTPConnection object at 0x7f86af538eb8>, 'Connection to www.granma.cu timed out. (connect timeout=4)'))\n"
          ],
          "name": "stdout"
        }
      ]
    },
    {
      "cell_type": "code",
      "metadata": {
        "id": "Y_JIFy18Pb2T",
        "colab_type": "code",
        "colab": {}
      },
      "source": [
        "dest = path/folder1\n",
        "dest\n",
        "download_images(path/file1, dest, max_pics=200)"
      ],
      "execution_count": 0,
      "outputs": []
    },
    {
      "cell_type": "code",
      "metadata": {
        "id": "zBZhUPEgP9WB",
        "colab_type": "code",
        "colab": {}
      },
      "source": [
        "dest = path/folder2\n",
        "dest\n",
        "download_images(path/file2, dest, max_pics=200)"
      ],
      "execution_count": 0,
      "outputs": []
    },
    {
      "cell_type": "code",
      "metadata": {
        "id": "blA5Q4OiP9Qs",
        "colab_type": "code",
        "colab": {}
      },
      "source": [
        "dest = path/folder3\n",
        "dest\n",
        "download_images(path/file3, dest, max_pics=200)"
      ],
      "execution_count": 0,
      "outputs": []
    },
    {
      "cell_type": "code",
      "metadata": {
        "id": "In6GUzzwosWF",
        "colab_type": "code",
        "outputId": "470012bf-0f04-474d-aeca-3dd2424c0c92",
        "colab": {
          "base_uri": "https://localhost:8080/",
          "height": 899
        }
      },
      "source": [
        "#Limpiar las imagenes que estan dañadas\n",
        "for c in classes:\n",
        "  print(c)\n",
        "  verify_images(path/c, delete=True, max_workers=8)"
      ],
      "execution_count": 0,
      "outputs": [
        {
          "output_type": "stream",
          "text": [
            "ciclones\n"
          ],
          "name": "stdout"
        },
        {
          "output_type": "display_data",
          "data": {
            "text/html": [
              ""
            ],
            "text/plain": [
              "<IPython.core.display.HTML object>"
            ]
          },
          "metadata": {
            "tags": []
          }
        },
        {
          "output_type": "stream",
          "text": [
            "cannot identify image file <_io.BufferedReader name='fenomenos/ciclones/00000065.jpg'>\n",
            "cannot identify image file <_io.BufferedReader name='fenomenos/ciclones/00000063.jpg'>\n",
            "cannot identify image file <_io.BufferedReader name='fenomenos/ciclones/00000113.jpg'>\n",
            "cannot identify image file <_io.BufferedReader name='fenomenos/ciclones/00000118.jpg'>\n",
            "cannot identify image file <_io.BufferedReader name='fenomenos/ciclones/00000178.jpg'>\n",
            "cannot identify image file <_io.BufferedReader name='fenomenos/ciclones/00000194.jpg'>\n",
            "cannot identify image file <_io.BufferedReader name='fenomenos/ciclones/00000136.jpg'>\n",
            "cannot identify image file <_io.BufferedReader name='fenomenos/ciclones/00000044.jpeg'>\n",
            "cannot identify image file <_io.BufferedReader name='fenomenos/ciclones/00000022.jpg'>\n",
            "cannot identify image file <_io.BufferedReader name='fenomenos/ciclones/00000056.jpg'>\n",
            "incendios\n"
          ],
          "name": "stdout"
        },
        {
          "output_type": "display_data",
          "data": {
            "text/html": [
              ""
            ],
            "text/plain": [
              "<IPython.core.display.HTML object>"
            ]
          },
          "metadata": {
            "tags": []
          }
        },
        {
          "output_type": "stream",
          "text": [
            "cannot identify image file <_io.BufferedReader name='fenomenos/incendios/00000151.jpg'>\n",
            "cannot identify image file <_io.BufferedReader name='fenomenos/incendios/00000064.jpg'>\n",
            "cannot identify image file <_io.BufferedReader name='fenomenos/incendios/00000138.jpg'>\n",
            "cannot identify image file <_io.BufferedReader name='fenomenos/incendios/00000083.jpg'>\n",
            "cannot identify image file <_io.BufferedReader name='fenomenos/incendios/00000051.jpg'>\n",
            "cannot identify image file <_io.BufferedReader name='fenomenos/incendios/00000123.jpg'>\n",
            "cannot identify image file <_io.BufferedReader name='fenomenos/incendios/00000095.jpg'>\n",
            "cannot identify image file <_io.BufferedReader name='fenomenos/incendios/00000140.jpg'>\n",
            "inundaciones\n"
          ],
          "name": "stdout"
        },
        {
          "output_type": "display_data",
          "data": {
            "text/html": [
              ""
            ],
            "text/plain": [
              "<IPython.core.display.HTML object>"
            ]
          },
          "metadata": {
            "tags": []
          }
        },
        {
          "output_type": "stream",
          "text": [
            "cannot identify image file <_io.BufferedReader name='fenomenos/inundaciones/00000149.jpg'>\n",
            "cannot identify image file <_io.BufferedReader name='fenomenos/inundaciones/00000050.jpg'>\n",
            "cannot identify image file <_io.BufferedReader name='fenomenos/inundaciones/00000064.jpg'>\n",
            "cannot identify image file <_io.BufferedReader name='fenomenos/inundaciones/00000091.jpg'>\n",
            "cannot identify image file <_io.BufferedReader name='fenomenos/inundaciones/00000140.jpg'>\n",
            "cannot identify image file <_io.BufferedReader name='fenomenos/inundaciones/00000057.jpg'>\n",
            "cannot identify image file <_io.BufferedReader name='fenomenos/inundaciones/00000167.jpg'>\n",
            "cannot identify image file <_io.BufferedReader name='fenomenos/inundaciones/00000190.jpeg'>\n",
            "cannot identify image file <_io.BufferedReader name='fenomenos/inundaciones/00000129.jpeg'>\n",
            "cannot identify image file <_io.BufferedReader name='fenomenos/inundaciones/00000177.jpg'>\n",
            "terremotos\n"
          ],
          "name": "stdout"
        },
        {
          "output_type": "display_data",
          "data": {
            "text/html": [
              ""
            ],
            "text/plain": [
              "<IPython.core.display.HTML object>"
            ]
          },
          "metadata": {
            "tags": []
          }
        },
        {
          "output_type": "stream",
          "text": [
            "cannot identify image file <_io.BufferedReader name='fenomenos/terremotos/00000144.jpg'>\n",
            "cannot identify image file <_io.BufferedReader name='fenomenos/terremotos/00000155.jpg'>\n",
            "cannot identify image file <_io.BufferedReader name='fenomenos/terremotos/00000050.jpg'>\n",
            "cannot identify image file <_io.BufferedReader name='fenomenos/terremotos/00000198.jpg'>\n",
            "cannot identify image file <_io.BufferedReader name='fenomenos/terremotos/00000125.jpg'>\n",
            "cannot identify image file <_io.BufferedReader name='fenomenos/terremotos/00000039.jpg'>\n",
            "cannot identify image file <_io.BufferedReader name='fenomenos/terremotos/00000166.jpg'>\n",
            "cannot identify image file <_io.BufferedReader name='fenomenos/terremotos/00000048.jpg'>\n",
            "cannot identify image file <_io.BufferedReader name='fenomenos/terremotos/00000003.jpg'>\n",
            "cannot identify image file <_io.BufferedReader name='fenomenos/terremotos/00000157.jpg'>\n",
            "cannot identify image file <_io.BufferedReader name='fenomenos/terremotos/00000184.JPG'>\n",
            "cannot identify image file <_io.BufferedReader name='fenomenos/terremotos/00000084.jpg'>\n",
            "cannot identify image file <_io.BufferedReader name='fenomenos/terremotos/00000117.jpg'>\n",
            "cannot identify image file <_io.BufferedReader name='fenomenos/terremotos/00000090.jpg'>\n",
            "cannot identify image file <_io.BufferedReader name='fenomenos/terremotos/00000122.jpg'>\n",
            "cannot identify image file <_io.BufferedReader name='fenomenos/terremotos/00000073.jpg'>\n"
          ],
          "name": "stdout"
        }
      ]
    },
    {
      "cell_type": "code",
      "metadata": {
        "id": "R9G-8IzkE7Oe",
        "colab_type": "code",
        "colab": {}
      },
      "source": [
        "imagePaths = list(paths.list_images(\"/content/fenomenos\"))"
      ],
      "execution_count": 0,
      "outputs": []
    },
    {
      "cell_type": "code",
      "metadata": {
        "id": "r3ZsX2TSns3f",
        "colab_type": "code",
        "colab": {}
      },
      "source": [
        "data = []\n",
        "labels = []"
      ],
      "execution_count": 0,
      "outputs": []
    },
    {
      "cell_type": "code",
      "metadata": {
        "id": "2efP9-O3p_oe",
        "colab_type": "code",
        "colab": {}
      },
      "source": [
        "for imagePath in imagePaths:\n",
        "    label = imagePath.split(os.path.sep)[-2]\n",
        "\n",
        "    image = cv2.imread(imagePath)\n",
        "    image = cv2.cvtColor(image, cv2.COLOR_BGR2RGB)\n",
        "    image = cv2.resize(image,(224,224))\n",
        "\n",
        "\n",
        "    data.append(image)\n",
        "    labels.append(label)\n"
      ],
      "execution_count": 0,
      "outputs": []
    },
    {
      "cell_type": "code",
      "metadata": {
        "id": "7J_Mx4aPqCSr",
        "colab_type": "code",
        "colab": {}
      },
      "source": [
        "# Convertir data y labels en numpy array\n",
        "data = np.array(data, dtype=\"float32\")\n",
        "labels = np.array(labels)"
      ],
      "execution_count": 0,
      "outputs": []
    },
    {
      "cell_type": "code",
      "metadata": {
        "id": "wpAGXLoRqENx",
        "colab_type": "code",
        "colab": {}
      },
      "source": [
        "# realizar una codificación en las etiquetas\n",
        "lb = LabelBinarizer()\n",
        "labels = lb.fit_transform(labels)"
      ],
      "execution_count": 0,
      "outputs": []
    },
    {
      "cell_type": "code",
      "metadata": {
        "id": "BmZ7lKJOntm7",
        "colab_type": "code",
        "colab": {}
      },
      "source": [
        "# Vamos a divir nuestra data y hacer un \"data_augmentation\"\n",
        "\n",
        "# Dividimos nuestra data en entrenamiento y prueba\n",
        "(trainX, testX, trainY, testY) = train_test_split(data, labels, test_size=config.TEST_SPLIT, random_state = 42)\n",
        "\n",
        "# Dividimos para la validación con la división del entrenamiento\n",
        "(trainX, valX, trainY, valY) = train_test_split(trainX, trainY, test_size=config.VAL_SPLIT, random_state=84)\n",
        "\n",
        "# Iniciamos el objeto de aumento de datos \"data augmentation\"\n",
        "\n",
        "aug = ImageDataGenerator(\n",
        "    rotation_range = 30,\n",
        "    zoom_range = 0.15,\n",
        "    width_shift_range = 0.2,\n",
        "    height_shift_range = 0.2,\n",
        "    shear_range = 0.15,\n",
        "    horizontal_flip = True,\n",
        "    fill_mode = \"nearest\"\n",
        ")"
      ],
      "execution_count": 0,
      "outputs": []
    },
    {
      "cell_type": "code",
      "metadata": {
        "id": "uN_4XRAen2qh",
        "colab_type": "code",
        "outputId": "d95bfd0d-e7e0-4450-ec8c-e7b71769782b",
        "colab": {
          "base_uri": "https://localhost:8080/",
          "height": 743
        }
      },
      "source": [
        "if 1 > 0:\n",
        "    print(\"Buncando el learning rate\")\n",
        "    lrf = LearningRateFinder(model)\n",
        "    lrf.find(\n",
        "        aug.flow(trainX, trainY, batch_size=config.BATCH_SIZE),\n",
        "        1e-10, 1e+1,\n",
        "        stepsPerEpoch = np.ceil((trainX.shape[0]/float(config.BATCH_SIZE))),\n",
        "        epochs = 20,\n",
        "        batchSize = config.BATCH_SIZE   \n",
        "    )\n",
        "\n",
        "    lrf.plot_loss()\n",
        "    #pathlr = os.path.sep.join([\"content/output\", \"lrfind_plot.png\"])\n",
        "    plt.savefig(\"lrfind_plot.png\")\n",
        "    print(\"LR-fincer completado\")\n",
        "    sys.exit(0)"
      ],
      "execution_count": 0,
      "outputs": [
        {
          "output_type": "stream",
          "text": [
            "Buncando el learning rate\n",
            "Epoch 1/20\n",
            "16/16 [==============================] - 9s 583ms/step - loss: 16.8141 - acc: 0.2551\n",
            "Epoch 2/20\n",
            "16/16 [==============================] - 5s 319ms/step - loss: 16.6044 - acc: 0.2469\n",
            "Epoch 3/20\n",
            "16/16 [==============================] - 5s 330ms/step - loss: 18.0438 - acc: 0.2408\n",
            "Epoch 4/20\n",
            "16/16 [==============================] - 5s 320ms/step - loss: 16.8054 - acc: 0.2735\n",
            "Epoch 5/20\n",
            "16/16 [==============================] - 5s 325ms/step - loss: 17.5561 - acc: 0.2592\n",
            "Epoch 6/20\n",
            "16/16 [==============================] - 5s 325ms/step - loss: 17.7060 - acc: 0.2980\n",
            "Epoch 7/20\n",
            "16/16 [==============================] - 5s 316ms/step - loss: 16.0526 - acc: 0.2592\n",
            "Epoch 8/20\n",
            "16/16 [==============================] - 5s 319ms/step - loss: 15.2429 - acc: 0.2857\n",
            "Epoch 9/20\n",
            "16/16 [==============================] - 5s 320ms/step - loss: 14.8804 - acc: 0.3061\n",
            "Epoch 10/20\n",
            "16/16 [==============================] - 5s 323ms/step - loss: 11.3017 - acc: 0.4102\n",
            "Epoch 11/20\n",
            "16/16 [==============================] - 5s 318ms/step - loss: 6.9646 - acc: 0.5837\n",
            "Epoch 12/20\n",
            "16/16 [==============================] - 5s 333ms/step - loss: 4.4565 - acc: 0.7306\n",
            "Epoch 13/20\n",
            "16/16 [==============================] - 5s 322ms/step - loss: 7.3661 - acc: 0.6857\n",
            "Epoch 14/20\n",
            "16/16 [==============================] - 5s 321ms/step - loss: 28.8596 - acc: 0.5878\n",
            "Epoch 15/20\n",
            " 5/16 [========>.....................] - ETA: 3s - loss: 247.2141 - acc: 0.4855LR-fincer completado\n"
          ],
          "name": "stdout"
        },
        {
          "output_type": "error",
          "ename": "SystemExit",
          "evalue": "ignored",
          "traceback": [
            "An exception has occurred, use %tb to see the full traceback.\n",
            "\u001b[0;31mSystemExit\u001b[0m\u001b[0;31m:\u001b[0m 0\n"
          ]
        },
        {
          "output_type": "stream",
          "text": [
            "/usr/local/lib/python3.6/dist-packages/IPython/core/interactiveshell.py:2890: UserWarning: To exit: use 'exit', 'quit', or Ctrl-D.\n",
            "  warn(\"To exit: use 'exit', 'quit', or Ctrl-D.\", stacklevel=1)\n"
          ],
          "name": "stderr"
        }
      ]
    },
    {
      "cell_type": "code",
      "metadata": {
        "id": "3lAh6A48oF13",
        "colab_type": "code",
        "outputId": "6372fe5d-bfc8-4e9e-8364-cd1edfe2e900",
        "colab": {
          "base_uri": "https://localhost:8080/",
          "height": 1000
        }
      },
      "source": [
        "stepSize = config.STEP_SIZE * (trainX.shape[0] // config.BATCH_SIZE)\n",
        "clr = CyclicLR(\n",
        "    mode = config.CLR_METHOD,\n",
        "    base_lr=config.MIN_LR,\n",
        "\tmax_lr=config.MAX_LR,\n",
        "\tstep_size=stepSize\n",
        ")\n",
        "\n",
        "# etrenar la red\n",
        "print(\"----------------Entrenamiento de la red-------------------------------\")\n",
        "H = model.fit_generator(\n",
        "    aug.flow(trainX, trainY, batch_size=config.BATCH_SIZE),\n",
        "\tvalidation_data=(valX, valY),\n",
        "\tsteps_per_epoch=trainX.shape[0] // config.BATCH_SIZE,\n",
        "\tepochs=config.NUM_EPOCHS,\n",
        "\tcallbacks=[clr],\n",
        "\tverbose=1\n",
        ")\n",
        "\n",
        "\n"
      ],
      "execution_count": 0,
      "outputs": [
        {
          "output_type": "stream",
          "text": [
            "----------------Entrenamiento de la red-------------------------------\n",
            "Epoch 1/48\n",
            "14/15 [===========================>..] - ETA: 0s - loss: 2403.4036 - acc: 0.2981Epoch 1/48\n",
            "55/15 [==============================================================================================================] - 1s 15ms/sample - loss: 2275.9155 - acc: 0.2909\n",
            "15/15 [==============================] - 6s 390ms/step - loss: 2512.4660 - acc: 0.2948 - val_loss: 2259.6740 - val_acc: 0.2909\n",
            "Epoch 2/48\n",
            "14/15 [===========================>..] - ETA: 0s - loss: 3455.7767 - acc: 0.3404Epoch 1/48\n",
            "55/15 [==============================================================================================================] - 0s 3ms/sample - loss: 419.1275 - acc: 0.5818\n",
            "15/15 [==============================] - 5s 304ms/step - loss: 3365.9287 - acc: 0.3362 - val_loss: 462.2726 - val_acc: 0.5818\n",
            "Epoch 3/48\n",
            "14/15 [===========================>..] - ETA: 0s - loss: 1243.9279 - acc: 0.4319Epoch 1/48\n",
            "55/15 [==============================================================================================================] - 0s 3ms/sample - loss: 121.9780 - acc: 0.7091\n",
            "15/15 [==============================] - 5s 323ms/step - loss: 1187.7872 - acc: 0.4389 - val_loss: 133.2242 - val_acc: 0.7091\n",
            "Epoch 4/48\n",
            "14/15 [===========================>..] - ETA: 0s - loss: 383.1152 - acc: 0.5625Epoch 1/48\n",
            "55/15 [==============================================================================================================] - 0s 3ms/sample - loss: 56.7801 - acc: 0.7455\n",
            "15/15 [==============================] - 5s 341ms/step - loss: 370.7361 - acc: 0.5646 - val_loss: 68.9183 - val_acc: 0.7455\n",
            "Epoch 5/48\n",
            "14/15 [===========================>..] - ETA: 0s - loss: 203.6648 - acc: 0.5990Epoch 1/48\n",
            "55/15 [==============================================================================================================] - 0s 3ms/sample - loss: 55.3880 - acc: 0.6727\n",
            "15/15 [==============================] - 5s 309ms/step - loss: 193.4306 - acc: 0.6124 - val_loss: 70.3059 - val_acc: 0.6727\n",
            "Epoch 6/48\n",
            "14/15 [===========================>..] - ETA: 0s - loss: 88.6728 - acc: 0.6667Epoch 1/48\n",
            "55/15 [==============================================================================================================] - 0s 3ms/sample - loss: 41.0421 - acc: 0.7818\n",
            "15/15 [==============================] - 5s 317ms/step - loss: 86.0150 - acc: 0.6725 - val_loss: 48.3492 - val_acc: 0.7818\n",
            "Epoch 7/48\n",
            "14/15 [===========================>..] - ETA: 0s - loss: 61.2638 - acc: 0.7054Epoch 1/48\n",
            "55/15 [==============================================================================================================] - 0s 8ms/sample - loss: 24.2370 - acc: 0.8182\n",
            "15/15 [==============================] - 5s 341ms/step - loss: 58.0784 - acc: 0.7074 - val_loss: 37.4123 - val_acc: 0.8182\n",
            "Epoch 8/48\n",
            "14/15 [===========================>..] - ETA: 0s - loss: 36.5805 - acc: 0.7567Epoch 1/48\n",
            "55/15 [==============================================================================================================] - 0s 3ms/sample - loss: 26.3952 - acc: 0.8545\n",
            "15/15 [==============================] - 5s 313ms/step - loss: 34.7708 - acc: 0.7688 - val_loss: 34.0734 - val_acc: 0.8545\n",
            "Epoch 9/48\n",
            "14/15 [===========================>..] - ETA: 0s - loss: 30.2834 - acc: 0.7376Epoch 1/48\n",
            "55/15 [==============================================================================================================] - 0s 3ms/sample - loss: 21.8469 - acc: 0.7636\n",
            "15/15 [==============================] - 4s 296ms/step - loss: 29.5021 - acc: 0.7454 - val_loss: 31.6299 - val_acc: 0.7636\n",
            "Epoch 10/48\n",
            "14/15 [===========================>..] - ETA: 0s - loss: 23.8709 - acc: 0.7902Epoch 1/48\n",
            "55/15 [==============================================================================================================] - 0s 3ms/sample - loss: 29.2126 - acc: 0.7455\n",
            "15/15 [==============================] - 5s 332ms/step - loss: 24.2807 - acc: 0.7812 - val_loss: 36.6431 - val_acc: 0.7455\n",
            "Epoch 11/48\n",
            "14/15 [===========================>..] - ETA: 0s - loss: 42.6297 - acc: 0.8052Epoch 1/48\n",
            "55/15 [==============================================================================================================] - 0s 3ms/sample - loss: 13.8521 - acc: 0.8000\n",
            "15/15 [==============================] - 5s 325ms/step - loss: 40.7126 - acc: 0.8057 - val_loss: 18.2806 - val_acc: 0.8000\n",
            "Epoch 12/48\n",
            "14/15 [===========================>..] - ETA: 0s - loss: 17.0444 - acc: 0.8267Epoch 1/48\n",
            "55/15 [==============================================================================================================] - 0s 3ms/sample - loss: 18.8417 - acc: 0.8727\n",
            "15/15 [==============================] - 5s 310ms/step - loss: 16.8299 - acc: 0.8280 - val_loss: 22.0738 - val_acc: 0.8727\n",
            "Epoch 13/48\n",
            "14/15 [===========================>..] - ETA: 0s - loss: 13.0303 - acc: 0.8348Epoch 1/48\n",
            "55/15 [==============================================================================================================] - 0s 3ms/sample - loss: 12.8603 - acc: 0.8545\n",
            "15/15 [==============================] - 5s 346ms/step - loss: 14.1121 - acc: 0.8313 - val_loss: 16.5113 - val_acc: 0.8545\n",
            "Epoch 14/48\n",
            "14/15 [===========================>..] - ETA: 0s - loss: 12.1202 - acc: 0.8474Epoch 1/48\n",
            "55/15 [==============================================================================================================] - 0s 4ms/sample - loss: 6.9326 - acc: 0.9091\n",
            "15/15 [==============================] - 5s 313ms/step - loss: 14.2811 - acc: 0.8486 - val_loss: 15.4058 - val_acc: 0.9091\n",
            "Epoch 15/48\n",
            "14/15 [===========================>..] - ETA: 0s - loss: 14.7375 - acc: 0.8705Epoch 1/48\n",
            "55/15 [==============================================================================================================] - 0s 3ms/sample - loss: 11.1948 - acc: 0.8727\n",
            "15/15 [==============================] - 5s 336ms/step - loss: 14.6399 - acc: 0.8750 - val_loss: 14.2945 - val_acc: 0.8727\n",
            "Epoch 16/48\n",
            "14/15 [===========================>..] - ETA: 0s - loss: 9.5267 - acc: 0.8545Epoch 1/48\n",
            "55/15 [==============================================================================================================] - 0s 3ms/sample - loss: 10.1827 - acc: 0.8909\n",
            "15/15 [==============================] - 5s 323ms/step - loss: 9.2003 - acc: 0.8515 - val_loss: 13.6270 - val_acc: 0.8909\n",
            "Epoch 17/48\n",
            "14/15 [===========================>..] - ETA: 0s - loss: 8.1223 - acc: 0.8803Epoch 1/48\n",
            "55/15 [==============================================================================================================] - 0s 3ms/sample - loss: 9.9889 - acc: 0.8909\n",
            "15/15 [==============================] - 5s 322ms/step - loss: 8.0858 - acc: 0.8799 - val_loss: 13.5706 - val_acc: 0.8909\n",
            "Epoch 18/48\n",
            "14/15 [===========================>..] - ETA: 0s - loss: 25.5662 - acc: 0.8709Epoch 1/48\n",
            "55/15 [==============================================================================================================] - 0s 3ms/sample - loss: 9.1354 - acc: 0.8909\n",
            "15/15 [==============================] - 5s 322ms/step - loss: 24.3074 - acc: 0.8734 - val_loss: 12.8350 - val_acc: 0.8909\n",
            "Epoch 19/48\n",
            "14/15 [===========================>..] - ETA: 0s - loss: 6.7463 - acc: 0.8850Epoch 1/48\n",
            "55/15 [==============================================================================================================] - 0s 3ms/sample - loss: 9.0663 - acc: 0.8909\n",
            "15/15 [==============================] - 5s 312ms/step - loss: 7.1694 - acc: 0.8843 - val_loss: 12.6190 - val_acc: 0.8909\n",
            "Epoch 20/48\n",
            "14/15 [===========================>..] - ETA: 0s - loss: 6.4567 - acc: 0.8873Epoch 1/48\n",
            "55/15 [==============================================================================================================] - 0s 3ms/sample - loss: 7.5776 - acc: 0.8727\n",
            "15/15 [==============================] - 5s 310ms/step - loss: 6.0835 - acc: 0.8908 - val_loss: 11.6878 - val_acc: 0.8727\n",
            "Epoch 21/48\n",
            "14/15 [===========================>..] - ETA: 0s - loss: 7.7698 - acc: 0.8661Epoch 1/48\n",
            "55/15 [==============================================================================================================] - 0s 4ms/sample - loss: 7.9998 - acc: 0.8727\n",
            "15/15 [==============================] - 5s 331ms/step - loss: 7.2736 - acc: 0.8690 - val_loss: 12.7822 - val_acc: 0.8727\n",
            "Epoch 22/48\n",
            "14/15 [===========================>..] - ETA: 0s - loss: 8.0351 - acc: 0.8705Epoch 1/48\n",
            "55/15 [==============================================================================================================] - 0s 3ms/sample - loss: 9.2068 - acc: 0.8727\n",
            "15/15 [==============================] - 5s 342ms/step - loss: 8.0664 - acc: 0.8687 - val_loss: 12.8219 - val_acc: 0.8727\n",
            "Epoch 23/48\n",
            "14/15 [===========================>..] - ETA: 0s - loss: 4.2543 - acc: 0.8850Epoch 1/48\n",
            "55/15 [==============================================================================================================] - 0s 3ms/sample - loss: 7.9649 - acc: 0.8727\n",
            "15/15 [==============================] - 5s 332ms/step - loss: 4.0916 - acc: 0.8886 - val_loss: 11.8056 - val_acc: 0.8727\n",
            "Epoch 24/48\n",
            "14/15 [===========================>..] - ETA: 0s - loss: 11.0145 - acc: 0.8474Epoch 1/48\n",
            "55/15 [==============================================================================================================] - 0s 3ms/sample - loss: 9.7510 - acc: 0.9091\n",
            "15/15 [==============================] - 5s 313ms/step - loss: 10.6441 - acc: 0.8428 - val_loss: 13.5209 - val_acc: 0.9091\n",
            "Epoch 25/48\n",
            "14/15 [===========================>..] - ETA: 0s - loss: 7.1074 - acc: 0.8663Epoch 1/48\n",
            "55/15 [==============================================================================================================] - 0s 3ms/sample - loss: 9.8791 - acc: 0.8909\n",
            "15/15 [==============================] - 4s 294ms/step - loss: 7.3427 - acc: 0.8624 - val_loss: 13.2289 - val_acc: 0.8909\n",
            "Epoch 26/48\n",
            "14/15 [===========================>..] - ETA: 0s - loss: 6.0449 - acc: 0.8772Epoch 1/48\n",
            "55/15 [==============================================================================================================] - 0s 3ms/sample - loss: 6.9810 - acc: 0.8727\n",
            "15/15 [==============================] - 5s 336ms/step - loss: 5.9822 - acc: 0.8708 - val_loss: 11.1276 - val_acc: 0.8727\n",
            "Epoch 27/48\n",
            "14/15 [===========================>..] - ETA: 0s - loss: 7.5992 - acc: 0.8615Epoch 1/48\n",
            "55/15 [==============================================================================================================] - 0s 3ms/sample - loss: 8.0241 - acc: 0.8727\n",
            "15/15 [==============================] - 5s 321ms/step - loss: 7.1598 - acc: 0.8668 - val_loss: 11.5017 - val_acc: 0.8727\n",
            "Epoch 28/48\n",
            "14/15 [===========================>..] - ETA: 0s - loss: 8.7427 - acc: 0.8779Epoch 1/48\n",
            "55/15 [==============================================================================================================] - 0s 3ms/sample - loss: 7.1016 - acc: 0.9091\n",
            "15/15 [==============================] - 5s 327ms/step - loss: 8.2938 - acc: 0.8821 - val_loss: 11.5957 - val_acc: 0.9091\n",
            "Epoch 29/48\n",
            "14/15 [===========================>..] - ETA: 0s - loss: 3.9967 - acc: 0.8944Epoch 1/48\n",
            "55/15 [==============================================================================================================] - 0s 3ms/sample - loss: 7.1967 - acc: 0.8727\n",
            "15/15 [==============================] - 5s 321ms/step - loss: 3.8681 - acc: 0.8930 - val_loss: 10.9133 - val_acc: 0.8727\n",
            "Epoch 30/48\n",
            "14/15 [===========================>..] - ETA: 0s - loss: 6.6671 - acc: 0.8779Epoch 1/48\n",
            "55/15 [==============================================================================================================] - 0s 3ms/sample - loss: 6.6854 - acc: 0.8545\n",
            "15/15 [==============================] - 5s 306ms/step - loss: 8.4968 - acc: 0.8734 - val_loss: 10.3592 - val_acc: 0.8545\n",
            "Epoch 31/48\n",
            "14/15 [===========================>..] - ETA: 0s - loss: 2.9544 - acc: 0.8944Epoch 1/48\n",
            "55/15 [==============================================================================================================] - 0s 4ms/sample - loss: 4.9480 - acc: 0.8727\n",
            "15/15 [==============================] - 5s 315ms/step - loss: 3.3500 - acc: 0.8922 - val_loss: 10.9904 - val_acc: 0.8727\n",
            "Epoch 32/48\n",
            "14/15 [===========================>..] - ETA: 0s - loss: 3.9088 - acc: 0.8929Epoch 1/48\n",
            "55/15 [==============================================================================================================] - 0s 3ms/sample - loss: 7.4858 - acc: 0.8727\n",
            "15/15 [==============================] - 5s 326ms/step - loss: 3.8202 - acc: 0.8938 - val_loss: 11.5440 - val_acc: 0.8727\n",
            "Epoch 33/48\n",
            "14/15 [===========================>..] - ETA: 0s - loss: 2.8705 - acc: 0.9085Epoch 1/48\n",
            "55/15 [==============================================================================================================] - 0s 3ms/sample - loss: 7.3704 - acc: 0.8909\n",
            "15/15 [==============================] - 5s 323ms/step - loss: 3.2259 - acc: 0.9061 - val_loss: 11.3346 - val_acc: 0.8909\n",
            "Epoch 34/48\n",
            "14/15 [===========================>..] - ETA: 0s - loss: 4.0746 - acc: 0.8897Epoch 1/48\n",
            "55/15 [==============================================================================================================] - 0s 3ms/sample - loss: 7.3486 - acc: 0.8909\n",
            "15/15 [==============================] - 5s 327ms/step - loss: 14.9239 - acc: 0.8930 - val_loss: 10.9567 - val_acc: 0.8909\n",
            "Epoch 35/48\n",
            "14/15 [===========================>..] - ETA: 0s - loss: 5.0650 - acc: 0.8991Epoch 1/48\n",
            "55/15 [==============================================================================================================] - 0s 3ms/sample - loss: 7.1879 - acc: 0.8727\n",
            "15/15 [==============================] - 5s 318ms/step - loss: 4.9372 - acc: 0.8974 - val_loss: 10.7546 - val_acc: 0.8727\n",
            "Epoch 36/48\n",
            "14/15 [===========================>..] - ETA: 0s - loss: 4.3020 - acc: 0.8826Epoch 1/48\n",
            "55/15 [==============================================================================================================] - 0s 3ms/sample - loss: 7.1067 - acc: 0.9273\n",
            "15/15 [==============================] - 5s 322ms/step - loss: 4.2699 - acc: 0.8821 - val_loss: 10.7328 - val_acc: 0.9273\n",
            "Epoch 37/48\n",
            "14/15 [===========================>..] - ETA: 0s - loss: 4.4803 - acc: 0.8929Epoch 1/48\n",
            "55/15 [==============================================================================================================] - 0s 3ms/sample - loss: 7.7579 - acc: 0.9091\n",
            "15/15 [==============================] - 5s 334ms/step - loss: 4.3646 - acc: 0.8875 - val_loss: 10.5174 - val_acc: 0.9091\n",
            "Epoch 38/48\n",
            "14/15 [===========================>..] - ETA: 0s - loss: 2.6246 - acc: 0.9108Epoch 1/48\n",
            "55/15 [==============================================================================================================] - 0s 3ms/sample - loss: 8.3505 - acc: 0.8909\n",
            "15/15 [==============================] - 5s 323ms/step - loss: 2.7253 - acc: 0.9083 - val_loss: 11.8330 - val_acc: 0.8909\n",
            "Epoch 39/48\n",
            "14/15 [===========================>..] - ETA: 0s - loss: 3.5876 - acc: 0.8897Epoch 1/48\n",
            "55/15 [==============================================================================================================] - 0s 3ms/sample - loss: 7.2499 - acc: 0.8727\n",
            "15/15 [==============================] - 5s 315ms/step - loss: 3.8903 - acc: 0.8886 - val_loss: 10.6333 - val_acc: 0.8727\n",
            "Epoch 40/48\n",
            "14/15 [===========================>..] - ETA: 0s - loss: 9.0360 - acc: 0.8803Epoch 1/48\n",
            "55/15 [==============================================================================================================] - 0s 3ms/sample - loss: 7.3325 - acc: 0.9091\n",
            "15/15 [==============================] - 5s 325ms/step - loss: 8.5329 - acc: 0.8843 - val_loss: 11.2611 - val_acc: 0.9091\n",
            "Epoch 41/48\n",
            "14/15 [===========================>..] - ETA: 0s - loss: 2.6279 - acc: 0.9109Epoch 1/48\n",
            "55/15 [==============================================================================================================] - 0s 3ms/sample - loss: 5.2714 - acc: 0.9091\n",
            "15/15 [==============================] - 5s 303ms/step - loss: 3.1418 - acc: 0.9060 - val_loss: 9.4322 - val_acc: 0.9091\n",
            "Epoch 42/48\n",
            "14/15 [===========================>..] - ETA: 0s - loss: 3.2111 - acc: 0.8615Epoch 1/48\n",
            "55/15 [==============================================================================================================] - 0s 3ms/sample - loss: 8.5735 - acc: 0.9273\n",
            "15/15 [==============================] - 5s 328ms/step - loss: 3.0796 - acc: 0.8690 - val_loss: 11.7556 - val_acc: 0.9273\n",
            "Epoch 43/48\n",
            "14/15 [===========================>..] - ETA: 0s - loss: 5.5482 - acc: 0.8906Epoch 1/48\n",
            "55/15 [==============================================================================================================] - 0s 3ms/sample - loss: 5.6203 - acc: 0.8909\n",
            "15/15 [==============================] - 5s 341ms/step - loss: 5.5575 - acc: 0.8896 - val_loss: 9.5153 - val_acc: 0.8909\n",
            "Epoch 44/48\n",
            "14/15 [===========================>..] - ETA: 0s - loss: 4.3889 - acc: 0.8779Epoch 1/48\n",
            "55/15 [==============================================================================================================] - 0s 3ms/sample - loss: 5.4643 - acc: 0.9273\n",
            "15/15 [==============================] - 5s 315ms/step - loss: 4.3570 - acc: 0.8712 - val_loss: 8.6157 - val_acc: 0.9273\n",
            "Epoch 45/48\n",
            "14/15 [===========================>..] - ETA: 0s - loss: 2.4100 - acc: 0.9178Epoch 1/48\n",
            "55/15 [==============================================================================================================] - 0s 3ms/sample - loss: 5.5751 - acc: 0.9273\n",
            "15/15 [==============================] - 5s 322ms/step - loss: 2.4863 - acc: 0.9192 - val_loss: 8.8781 - val_acc: 0.9273\n",
            "Epoch 46/48\n",
            "14/15 [===========================>..] - ETA: 0s - loss: 2.5101 - acc: 0.9178Epoch 1/48\n",
            "55/15 [==============================================================================================================] - 0s 4ms/sample - loss: 4.9470 - acc: 0.9273\n",
            "15/15 [==============================] - 4s 296ms/step - loss: 2.5595 - acc: 0.9174 - val_loss: 9.1723 - val_acc: 0.9273\n",
            "Epoch 47/48\n",
            "14/15 [===========================>..] - ETA: 0s - loss: 3.3331 - acc: 0.8973Epoch 1/48\n",
            "55/15 [==============================================================================================================] - 0s 4ms/sample - loss: 4.1240 - acc: 0.9091\n",
            "15/15 [==============================] - 5s 319ms/step - loss: 3.1242 - acc: 0.8996 - val_loss: 9.1094 - val_acc: 0.9091\n",
            "Epoch 48/48\n",
            "14/15 [===========================>..] - ETA: 0s - loss: 2.4728 - acc: 0.9219Epoch 1/48\n",
            "55/15 [==============================================================================================================] - 0s 3ms/sample - loss: 4.5720 - acc: 0.9273\n",
            "15/15 [==============================] - 5s 336ms/step - loss: 2.3130 - acc: 0.9250 - val_loss: 8.4574 - val_acc: 0.9273\n"
          ],
          "name": "stdout"
        }
      ]
    },
    {
      "cell_type": "markdown",
      "metadata": {
        "id": "nGbpGNOm54X8",
        "colab_type": "text"
      },
      "source": [
        "## Cambiamos el Lr mínimo y máximo en función de la gráfica del Cyclical learning rate, para que nos dé un mejor accuracy"
      ]
    },
    {
      "cell_type": "markdown",
      "metadata": {
        "id": "ozbZtlfM6Wdr",
        "colab_type": "text"
      },
      "source": [
        "### Esto encontramos en bootcamp > config\n",
        "\n",
        "MIN_LR = 1e-6\n",
        "MAX_LR = 1e-4"
      ]
    },
    {
      "cell_type": "code",
      "metadata": {
        "id": "5dDrmcrisS-B",
        "colab_type": "code",
        "outputId": "a1e6eb3f-7cea-405c-e05c-73670d8ce3ef",
        "colab": {
          "base_uri": "https://localhost:8080/",
          "height": 237
        }
      },
      "source": [
        "# Cuando el modelo termine de entrar, lo evaluamos y guardamos\n",
        "print(\"----------------Evaluación de la red----------------\")\n",
        "predictions = model.predict(testX, batch_size=config.BATCH_SIZE)\n",
        "print(classification_report(testY.argmax(axis=1),\n",
        "\tpredictions.argmax(axis=1), target_names=config.CLASSES))"
      ],
      "execution_count": 0,
      "outputs": [
        {
          "output_type": "stream",
          "text": [
            "----------------Evaluación de la red----------------\n",
            "              precision    recall  f1-score   support\n",
            "\n",
            "     Cyclone       0.93      0.76      0.83        49\n",
            "  Earthquake       0.81      0.91      0.86        43\n",
            "       Flood       0.76      1.00      0.86        41\n",
            "    Wildfire       0.97      0.80      0.88        49\n",
            "\n",
            "    accuracy                           0.86       182\n",
            "   macro avg       0.87      0.86      0.86       182\n",
            "weighted avg       0.87      0.86      0.86       182\n",
            "\n"
          ],
          "name": "stdout"
        }
      ]
    },
    {
      "cell_type": "code",
      "metadata": {
        "id": "g_hG3ow5sVt1",
        "colab_type": "code",
        "outputId": "d76f1f89-b30b-48cb-a9e0-09a5ee4c43bb",
        "colab": {
          "base_uri": "https://localhost:8080/",
          "height": 35
        }
      },
      "source": [
        "# Serialización del modelo en el disco (Guardando en modelo en natural_disaster.model)\n",
        "print(\"Guardando el modelo en: '{}'..\".format(config.MODEL_PATH))\n",
        "model.save(config.MODEL_PATH)"
      ],
      "execution_count": 0,
      "outputs": [
        {
          "output_type": "stream",
          "text": [
            "Guardando el modelo en: 'output/natural_disaster.model'..\n"
          ],
          "name": "stdout"
        }
      ]
    },
    {
      "cell_type": "code",
      "metadata": {
        "id": "g2NsqKNZsW8s",
        "colab_type": "code",
        "colab": {}
      },
      "source": [
        "# contruye un plot que dibuje y guarde el training history\n",
        "N = np.arange(0, config.NUM_EPOCHS)\n",
        "plt.style.use(\"ggplot\")\n",
        "plt.figure()\n",
        "plt.plot(N, H.history[\"loss\"], label=\"train_loss\")\n",
        "plt.plot(N, H.history[\"val_loss\"], label=\"val_loss\")\n",
        "#plt.plot(N, H.history[\"accuracy\"], label=\"train_acc\")\n",
        "#plt.plot(N, H.history[\"val_accuracy\"], label=\"val_acc\")\n",
        "plt.title(\"Training Loss and Accuracy\")\n",
        "plt.xlabel(\"Epoch #\")\n",
        "plt.ylabel(\"Loss/Accuracy\")\n",
        "plt.legend(loc=\"lower left\")\n",
        "plt.savefig(config.TRAINING_PLOT_PATH)\n",
        " \n",
        "# plot the learning rate history\n",
        "N = np.arange(0, len(clr.history[\"lr\"]))\n",
        "plt.figure()\n",
        "plt.plot(N, clr.history[\"lr\"])\n",
        "plt.title(\"Cyclical Learning Rate (CLR)\")\n",
        "plt.xlabel(\"Training Iterations\")\n",
        "plt.ylabel(\"Learning Rate\")\n",
        "plt.savefig(config.CLR_PLOT_PATH)"
      ],
      "execution_count": 0,
      "outputs": []
    },
    {
      "cell_type": "markdown",
      "metadata": {
        "id": "yCFWxLXUCvKX",
        "colab_type": "text"
      },
      "source": [
        "# Predicción"
      ]
    },
    {
      "cell_type": "code",
      "metadata": {
        "id": "32VDFJwX9ofb",
        "colab_type": "code",
        "colab": {}
      },
      "source": [
        "from tensorflow.keras.models import load_model\n",
        "from bootcamp import config\n",
        "from collections import deque\n",
        "import numpy as np\n",
        "import argparse\n",
        "import cv2"
      ],
      "execution_count": 0,
      "outputs": []
    },
    {
      "cell_type": "code",
      "metadata": {
        "id": "aXwOCUdRCxqI",
        "colab_type": "code",
        "outputId": "6e18b717-6abc-4581-dcf5-b011fc3ad775",
        "colab": {
          "base_uri": "https://localhost:8080/",
          "height": 147
        }
      },
      "source": [
        "model = load_model(\"output/natural_disaster.model\")"
      ],
      "execution_count": 0,
      "outputs": [
        {
          "output_type": "stream",
          "text": [
            "WARNING:tensorflow:From /usr/local/lib/python3.6/dist-packages/tensorflow_core/python/ops/init_ops.py:97: calling GlorotUniform.__init__ (from tensorflow.python.ops.init_ops) with dtype is deprecated and will be removed in a future version.\n",
            "Instructions for updating:\n",
            "Call initializer instance with the dtype argument instead of passing it to the constructor\n",
            "WARNING:tensorflow:From /usr/local/lib/python3.6/dist-packages/tensorflow_core/python/ops/init_ops.py:97: calling Zeros.__init__ (from tensorflow.python.ops.init_ops) with dtype is deprecated and will be removed in a future version.\n",
            "Instructions for updating:\n",
            "Call initializer instance with the dtype argument instead of passing it to the constructor\n"
          ],
          "name": "stdout"
        }
      ]
    },
    {
      "cell_type": "code",
      "metadata": {
        "id": "s1FuRSw7C0qd",
        "colab_type": "code",
        "outputId": "a106f9a7-761d-4f25-e41f-a6d64fe016e4",
        "colab": {
          "base_uri": "https://localhost:8080/",
          "height": 35
        }
      },
      "source": [
        "model"
      ],
      "execution_count": 0,
      "outputs": [
        {
          "output_type": "execute_result",
          "data": {
            "text/plain": [
              "<tensorflow.python.keras.engine.training.Model at 0x7f86ae8946d8>"
            ]
          },
          "metadata": {
            "tags": []
          },
          "execution_count": 84
        }
      ]
    },
    {
      "cell_type": "code",
      "metadata": {
        "id": "lwN4NXvzC8yY",
        "colab_type": "code",
        "colab": {}
      },
      "source": [
        "# Inicializar la cola de predicciónes\n",
        "Q = deque(maxlen = 128)"
      ],
      "execution_count": 0,
      "outputs": []
    },
    {
      "cell_type": "code",
      "metadata": {
        "id": "ktUzv3rfDY13",
        "colab_type": "code",
        "outputId": "e3a33c73-6b43-4231-b9ff-3b21e6007222",
        "colab": {
          "base_uri": "https://localhost:8080/",
          "height": 35
        }
      },
      "source": [
        "# Inicializamos el video, los puntos de salida del archivo de video y las dimensiones\n",
        "print(\"-------------------- Procesando el video --------------------------------\")\n",
        "## Captura de video\n",
        "vs = cv2.VideoCapture(\"output/floods_101_nat_geo.mp4\")"
      ],
      "execution_count": 0,
      "outputs": [
        {
          "output_type": "stream",
          "text": [
            "-------------------- Procesando el video --------------------------------\n"
          ],
          "name": "stdout"
        }
      ]
    },
    {
      "cell_type": "code",
      "metadata": {
        "id": "fSAl25bcEC7Y",
        "colab_type": "code",
        "colab": {}
      },
      "source": [
        "writer = None\n",
        "(W,H)=(None,None)\n"
      ],
      "execution_count": 0,
      "outputs": []
    },
    {
      "cell_type": "code",
      "metadata": {
        "id": "zfmwOxW5EFEh",
        "colab_type": "code",
        "outputId": "13cfb3c8-1e1b-462f-cc4f-f5339f095201",
        "colab": {
          "base_uri": "https://localhost:8080/",
          "height": 35
        }
      },
      "source": [
        "while True:\n",
        "    (grabbed, frame) = vs.read()\n",
        "\n",
        "    if not grabbed:\n",
        "        break\n",
        "\n",
        "    if W is None or H is None:\n",
        "        (H,W) = frame.shape[:2]\n",
        "\n",
        "    # copiamos los frames de salida, los convertimos en BGR to RGB, lo ordenamos y una nueva dimensión a 224X224\n",
        "    # Los datos (imágenes) de entrada, deben ser los mismos con los que entrenamos el modelo\n",
        "    output = frame.copy()\n",
        "    frame = cv2.cvtColor(frame, cv2.COLOR_BGR2RGB)\n",
        "    frame = cv2.resize(frame, (224,224))\n",
        "    frame = frame.astype(\"float32\")\n",
        "\n",
        "    # Hacer la predicción en los frames y después actualizar la cola de predicciónes\n",
        "    # De tal manera que mejora la inferencia y agrega la predicción a la cola\n",
        "    preds = model.predict(np.expand_dims(frame, axis=0))[0]\n",
        "    Q.append(preds)\n",
        "\n",
        "    # mejorar la predicción promedio sobre el historial actual de las predicciónes previas\n",
        "    result = np.array(Q).mean(axis=0)\n",
        "    # extrae la mayor predicción de etiqueta de clase y eso es lo que vamos a escribir en nuestro frace\n",
        "    i = np.argmax(result)\n",
        "    label = config.CLASSES[i]\n",
        "\n",
        "    # Escribir la actividad en el frame\n",
        "    text = \"ACTIVIDAD: {}\".format(label)\n",
        "    cv2.putText(output,text,(35,50), cv2.FONT_HERSHEY_PLAIN,2.0, (225,255,0), 5)\n",
        "\n",
        "    # Revisar si video writer es None\n",
        "    if writer is None:\n",
        "        # Inicializamos el video writer\n",
        "        fourcc = cv2.VideoWriter_fourcc(*\"MJPG\")\n",
        "        writer = cv2.VideoWriter( \"output/natural_disasters_output.avi\", fourcc, 30, (W,H), True)\n",
        "    \n",
        "    #Escribir la salida en el disco\n",
        "    writer.write(output)\n",
        "\n",
        "    # Revisar si estamos mostrando el output\n",
        "    if -1 > 0:\n",
        "        cv2.imshow(\"Output\", output)\n",
        "        key = cv2.waitKey(1) & 0XFF\n",
        "\n",
        "        # Si aplastamos en la x, salimos del loop\n",
        "        if key == ord(\"q\"):\n",
        "            break\n",
        "# liberar el puntero del archivo\n",
        "print(\"Limpiando\")\n",
        "writer.release()\n",
        "vs.release()\n"
      ],
      "execution_count": 0,
      "outputs": [
        {
          "output_type": "stream",
          "text": [
            "Limpiando\n"
          ],
          "name": "stdout"
        }
      ]
    },
    {
      "cell_type": "code",
      "metadata": {
        "id": "4eFvdbbdbYqa",
        "colab_type": "code",
        "colab": {}
      },
      "source": [
        ""
      ],
      "execution_count": 0,
      "outputs": []
    }
  ]
}